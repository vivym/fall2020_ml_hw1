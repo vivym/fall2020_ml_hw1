{
 "metadata": {
  "language_info": {
   "codemirror_mode": {
    "name": "ipython",
    "version": 3
   },
   "file_extension": ".py",
   "mimetype": "text/x-python",
   "name": "python",
   "nbconvert_exporter": "python",
   "pygments_lexer": "ipython3",
   "version": "3.9.1-final"
  },
  "orig_nbformat": 2,
  "kernelspec": {
   "name": "python3",
   "display_name": "Python 3.9.1 64-bit",
   "metadata": {
    "interpreter": {
     "hash": "ac59ebe37160ed0dfa835113d9b8498d9f09ceb179beaac4002f036b9467c963"
    }
   }
  }
 },
 "nbformat": 4,
 "nbformat_minor": 2,
 "cells": [
  {
   "cell_type": "code",
   "execution_count": 9,
   "metadata": {},
   "outputs": [],
   "source": [
    "import numpy as np\n",
    "from scipy.io import loadmat"
   ]
  },
  {
   "cell_type": "code",
   "execution_count": 18,
   "metadata": {
    "tags": []
   },
   "outputs": [
    {
     "output_type": "stream",
     "name": "stdout",
     "text": [
      "feature_mapping #1:\n",
      "5424.837637776309\n",
      "feature_mapping #2:\n",
      "5424.837637776309\n"
     ]
    }
   ],
   "source": [
    "def linear_pred(theta, X):\n",
    "    return X @ theta\n",
    "\n",
    "\n",
    "def linear_regress(y, X):\n",
    "    alpha = 0.00001\n",
    "    theta = np.zeros((X.shape[1], 1), dtype=X.dtype)\n",
    "\n",
    "    for _ in range(2000):\n",
    "        error = linear_pred(theta, X) - y\n",
    "        theta = theta - alpha * np.mean(error * X, axis=0)\n",
    "    \n",
    "    return theta\n",
    "\n",
    "\n",
    "def load_p3():\n",
    "    p3 = loadmat(\"p3.mat\")\n",
    "    X_in = p3[\"X_in\"]\n",
    "    y_noisy = p3[\"y_noisy\"]\n",
    "    y_true = p3[\"y_true\"]\n",
    "\n",
    "    return X_in, y_noisy, y_true\n",
    "\n",
    "\n",
    "def feature_mapping(X_in, mode):\n",
    "    if mode == 2:\n",
    "        X_in = np.log(X_in) ** 2\n",
    "\n",
    "    ones = np.ones((X_in.shape[0], 1), dtype=X_in.dtype)\n",
    "    return np.concatenate((ones, X_in), axis=1)\n",
    "\n",
    "def exp_linreg(mode):\n",
    "    X_in, y_noisy, y_true = load_p3()\n",
    "    X_in = feature_mapping(X_in, 1)\n",
    "\n",
    "    X_train, X_test = X_in[:800], X_in[800:]\n",
    "    y_train, y_test = y_noisy[:800], y_true[800:]\n",
    "    \n",
    "    theta = linear_regress(y_train, X_train)\n",
    "    y_hat = linear_pred(theta, X_test)\n",
    "\n",
    "    error = np.mean((y_hat - y_test) ** 2)\n",
    "    print(error)\n",
    "\n",
    "\n",
    "print(\"feature_mapping #1:\")\n",
    "exp_linreg(1)\n",
    "\n",
    "print(\"feature_mapping #2:\")\n",
    "exp_linreg(2)"
   ]
  },
  {
   "cell_type": "code",
   "execution_count": 19,
   "metadata": {},
   "outputs": [
    {
     "output_type": "stream",
     "name": "stdout",
     "text": [
      "(2000, 2)\n(2000, 1)\n"
     ]
    }
   ],
   "source": [
    "def perceptron_train(X, y):\n",
    "    pass\n",
    "\n",
    "\n",
    "def perceptron_test(theta, X_test, y_test):\n",
    "    pass\n",
    "\n",
    "\n",
    "p4a = loadmat(\"p4a.mat\")\n",
    "p4aX, p4ay = p4a[\"p4aX\"], p4a[\"p4ay\"]\n",
    "print(p4aX.shape)\n",
    "print(p4ay.shape)"
   ]
  },
  {
   "cell_type": "code",
   "execution_count": null,
   "metadata": {},
   "outputs": [],
   "source": []
  }
 ]
}